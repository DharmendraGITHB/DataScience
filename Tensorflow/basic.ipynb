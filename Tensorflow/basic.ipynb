{
 "cells": [
  {
   "cell_type": "code",
   "execution_count": 2,
   "id": "3f272543",
   "metadata": {},
   "outputs": [
    {
     "name": "stdout",
     "output_type": "stream",
     "text": [
      "your tensorflow version: 2.7.0\n"
     ]
    }
   ],
   "source": [
    "import tensorflow as tf\n",
    "print(('your tensorflow version: {0}').format(tf.__version__))"
   ]
  },
  {
   "cell_type": "markdown",
   "id": "2284ed6e-3020-426c-bef8-d4340d4ddb3c",
   "metadata": {},
   "source": [
    "Tensor are defined by a unit of dimensionality called as rank.\n",
    ">scalar=300 with rank 0.\n",
    ">vector =[1,2,3] with rank 1.\n",
    ">matrix=[[1,2],[3,4]] with rank 2.\n",
    ">Tensor=[[[1],[2],[3]]]  with rank 3\n",
    "\n",
    "| example    | Rank                       |\n",
    "| :-------- | :------------------------- |\n",
    "| `scalar=100` | `` | **Required**. Your API key |"
   ]
  },
  {
   "cell_type": "code",
   "execution_count": 3,
   "id": "4654b1b7",
   "metadata": {},
   "outputs": [],
   "source": [
    "x=tf.constant([1,2,3,4,5])\n",
    "y=tf.constant([6,7,8,9,10])"
   ]
  },
  {
   "cell_type": "code",
   "execution_count": 4,
   "id": "d61c65ae",
   "metadata": {},
   "outputs": [],
   "source": [
    "a=tf.add(x,y)"
   ]
  },
  {
   "cell_type": "code",
   "execution_count": 5,
   "id": "9c922484",
   "metadata": {},
   "outputs": [
    {
     "name": "stdout",
     "output_type": "stream",
     "text": [
      "tf.Tensor([ 7  9 11 13 15], shape=(5,), dtype=int32)\n"
     ]
    }
   ],
   "source": [
    "print(a)"
   ]
  },
  {
   "cell_type": "code",
   "execution_count": 6,
   "id": "3c1f4e67",
   "metadata": {},
   "outputs": [],
   "source": [
    "%load_ext tensorboard"
   ]
  },
  {
   "cell_type": "code",
   "execution_count": 7,
   "id": "d6e24764-55be-499e-9591-01df12760343",
   "metadata": {},
   "outputs": [],
   "source": [
    "tensor= tf.ones(shape=[2,3])"
   ]
  },
  {
   "cell_type": "code",
   "execution_count": 8,
   "id": "020ba5b9-7102-4599-b3da-bb726991e542",
   "metadata": {},
   "outputs": [
    {
     "name": "stdout",
     "output_type": "stream",
     "text": [
      "tf.Tensor(\n",
      "[[1. 1. 1.]\n",
      " [1. 1. 1.]], shape=(2, 3), dtype=float32)\n"
     ]
    }
   ],
   "source": [
    "print(tensor)"
   ]
  },
  {
   "cell_type": "code",
   "execution_count": 9,
   "id": "3175f715-3d03-4618-b004-eea7ba97f7f5",
   "metadata": {},
   "outputs": [
    {
     "data": {
      "text/plain": [
       "<tf.Tensor: shape=(2, 3), dtype=float32, numpy=\n",
       "array([[1., 1., 1.],\n",
       "       [1., 1., 1.]], dtype=float32)>"
      ]
     },
     "execution_count": 9,
     "metadata": {},
     "output_type": "execute_result"
    }
   ],
   "source": [
    "tensor"
   ]
  },
  {
   "cell_type": "code",
   "execution_count": 10,
   "id": "ec10bc85-31f5-4e15-b12b-16f04f9d4438",
   "metadata": {},
   "outputs": [
    {
     "ename": "AttributeError",
     "evalue": "module 'tensorflow' has no attribute 'Transpose'",
     "output_type": "error",
     "traceback": [
      "\u001b[1;31m-----------------------------------------------\u001b[0m",
      "\u001b[1;31mAttributeError\u001b[0mTraceback (most recent call last)",
      "\u001b[1;32m~\\AppData\\Local\\Temp/ipykernel_8708/78516308.py\u001b[0m in \u001b[0;36m<module>\u001b[1;34m\u001b[0m\n\u001b[1;32m----> 1\u001b[1;33m \u001b[0ma\u001b[0m\u001b[1;33m=\u001b[0m \u001b[0mtf\u001b[0m\u001b[1;33m.\u001b[0m\u001b[0mTranspose\u001b[0m\u001b[1;33m(\u001b[0m\u001b[0mtensor_as_int32\u001b[0m\u001b[1;33m)\u001b[0m\u001b[1;33m\u001b[0m\u001b[1;33m\u001b[0m\u001b[0m\n\u001b[0m",
      "\u001b[1;31mAttributeError\u001b[0m: module 'tensorflow' has no attribute 'Transpose'"
     ]
    }
   ],
   "source": []
  },
  {
   "cell_type": "code",
   "execution_count": null,
   "id": "6e15d1bd-0ad6-416e-904d-e9de9dbbf3a3",
   "metadata": {},
   "outputs": [],
   "source": []
  }
 ],
 "metadata": {
  "kernelspec": {
   "display_name": "Python 3 (ipykernel)",
   "language": "python",
   "name": "python3"
  },
  "language_info": {
   "codemirror_mode": {
    "name": "ipython",
    "version": 3
   },
   "file_extension": ".py",
   "mimetype": "text/x-python",
   "name": "python",
   "nbconvert_exporter": "python",
   "pygments_lexer": "ipython3",
   "version": "3.9.7"
  }
 },
 "nbformat": 4,
 "nbformat_minor": 5
}
