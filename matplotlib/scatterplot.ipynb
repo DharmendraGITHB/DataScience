{
 "cells": [
  {
   "cell_type": "markdown",
   "id": "3c7dbb48",
   "metadata": {},
   "source": [
    "scatter plot is uses dots to represent values for two different numeric variables in a data-set."
   ]
  },
  {
   "cell_type": "code",
   "execution_count": 2,
   "id": "2c2bac22",
   "metadata": {},
   "outputs": [],
   "source": [
    "import matplotlib.pyplot as plt\n",
    "import numpy as np\n",
    "import numpy "
   ]
  },
  {
   "cell_type": "markdown",
   "id": "0faffd2e-dc74-44a0-840f-524940e21a15",
   "metadata": {},
   "source": [
    "matplotlib.pyplot.scatter\n",
    "matplotlib.pyplot.scatter(x, y, s=None, c=None, marker=None, cmap=None, norm=None, vmin=None, vmax=None, alpha=None, linewidths=None, *, edgecolors=None, plotnonfinite=False, data=None, **kwargs)"
   ]
  },
  {
   "cell_type": "markdown",
   "id": "5f184a56-dc85-4386-bb86-71c5782dd435",
   "metadata": {},
   "source": [
    "plt.style.available"
   ]
  },
  {
   "cell_type": "code",
   "execution_count": 4,
   "id": "4c272613",
   "metadata": {},
   "outputs": [],
   "source": [
    "plt.style.use('seaborn-dark')"
   ]
  },
  {
   "cell_type": "code",
   "execution_count": 5,
   "id": "3abba0bf",
   "metadata": {},
   "outputs": [],
   "source": [
    "x=[1,2,3,4,5,6,7,8,9]\n",
    "y=[10,11,12,13,14,15,16,17,18]"
   ]
  },
  {
   "cell_type": "code",
   "execution_count": 6,
   "id": "990d1e79",
   "metadata": {},
   "outputs": [
    {
     "data": {
      "text/plain": [
       "<matplotlib.collections.PathCollection at 0x23668eeb7c0>"
      ]
     },
     "execution_count": 6,
     "metadata": {},
     "output_type": "execute_result"
    },
    {
     "data": {
      "image/png": "[encoded data removed]",
      "text/plain": [
       "<Figure size 432x288 with 1 Axes>"
      ]
     },
     "metadata": {},
     "output_type": "display_data"
    }
   ],
   "source": [
    "plt.scatter(x,y)"
   ]
  },
  {
   "cell_type": "code",
   "execution_count": null,
   "id": "6533422a-6149-4a54-a765-deea059492dd",
   "metadata": {},
   "outputs": [],
   "source": []
  },
  {
   "cell_type": "markdown",
   "id": "40482166-1fa6-49de-808d-52d6b6d7bccc",
   "metadata": {},
   "source": [
    "*Random Data Distribution*\n",
    "\n",
    "normal or Gaussian data distribution is an important probability distribution. It is also called a 'bell shaped curve' it\n",
    "\n"
   ]
  },
  {
   "cell_type": "code",
   "execution_count": 7,
   "id": "e86d04f3",
   "metadata": {},
   "outputs": [],
   "source": [
    "p=numpy.random.normal(5.0,1.0,100)\n",
    "q=numpy.random.normal(10.0,2.0,100)"
   ]
  },
  {
   "cell_type": "code",
   "execution_count": 8,
   "id": "625260cc",
   "metadata": {},
   "outputs": [],
   "source": [
    "#plt.style.use('seaborn-dark-palette')"
   ]
  },
  {
   "cell_type": "code",
   "execution_count": 9,
   "id": "d53d39fd",
   "metadata": {},
   "outputs": [
    {
     "data": {
      "text/plain": [
       "<matplotlib.collections.PathCollection at 0x2366969dc70>"
      ]
     },
     "execution_count": 9,
     "metadata": {},
     "output_type": "execute_result"
    },
    {
     "data": {
      "image/png": "[encoded data removed]",
      "text/plain": [
       "<Figure size 432x288 with 1 Axes>"
      ]
     },
     "metadata": {},
     "output_type": "display_data"
    }
   ],
   "source": [
    "plt.scatter(p,q)"
   ]
  },
  {
   "cell_type": "code",
   "execution_count": null,
   "id": "3a3c1f4a",
   "metadata": {},
   "outputs": [],
   "source": [
    "\n",
    "\n"
   ]
  },
  {
   "cell_type": "markdown",
   "id": "6a3163de-16e3-453e-911f-cc35201f3cdf",
   "metadata": {
    "tags": []
   },
   "source": [
    "### PLOTTING COMPARING\n",
    "    DRAWING TWO PLOT IN SAME FIGURE"
   ]
  },
  {
   "cell_type": "code",
   "execution_count": 29,
   "id": "3892b02a-acf9-4cfd-b993-74f0e0b15552",
   "metadata": {},
   "outputs": [
    {
     "data": {
      "text/plain": [
       "<matplotlib.collections.PathCollection at 0x2366ae13d90>"
      ]
     },
     "execution_count": 29,
     "metadata": {},
     "output_type": "execute_result"
    },
    {
     "data": {
      "image/png": "[encoded data removed]",
      "text/plain": [
       "<Figure size 432x288 with 1 Axes>"
      ]
     },
     "metadata": {},
     "output_type": "display_data"
    }
   ],
   "source": [
    " \n",
    "#day one\n",
    "x = np.array([2,3,4,21,13,12,34,11,15,16])\n",
    "y = np.array([99,86,87,88,87,94,78,77,85,86])\n",
    "plt.scatter(x, y, color='black')\n",
    "\n",
    "#day two\n",
    "x = np.array([12,13,21,45,22,67,88,32,34,22])\n",
    "y = np.array([105,90,99,90,95,94,91,80,85,22])\n",
    "plt.scatter(x, y, color ='yellow')\n"
   ]
  },
  {
   "cell_type": "code",
   "execution_count": null,
   "id": "b3f44012-18f1-416f-aa95-25f7b9cf5153",
   "metadata": {},
   "outputs": [],
   "source": []
  },
  {
   "cell_type": "markdown",
   "id": "2cb2e6b4-b763-4440-a442-1d43958c2c79",
   "metadata": {},
   "source": [
    "### Colors \n",
    " colors size is equals to arrays size"
   ]
  },
  {
   "cell_type": "code",
   "execution_count": 37,
   "id": "911f2571-2b37-43e0-8ad5-111e45c5655f",
   "metadata": {},
   "outputs": [],
   "source": [
    "colors= np.array([\"red\", \"green\",\"blue\",\"yellow\", \"orange\",\"black\",\"gray\",\"black\",\"brown\",\"cyan\"])"
   ]
  },
  {
   "cell_type": "code",
   "execution_count": 41,
   "id": "317db436-dafe-4e9e-a304-cd0333b185c1",
   "metadata": {},
   "outputs": [
    {
     "data": {
      "text/plain": [
       "<matplotlib.collections.PathCollection at 0x2366af14a30>"
      ]
     },
     "execution_count": 41,
     "metadata": {},
     "output_type": "execute_result"
    },
    {
     "data": {
      "image/png": "[encoded data removed]",
      "text/plain": [
       "<Figure size 432x288 with 1 Axes>"
      ]
     },
     "metadata": {},
     "output_type": "display_data"
    }
   ],
   "source": [
    "plt.scatter(x,y, c=colors)"
   ]
  },
  {
   "cell_type": "code",
   "execution_count": null,
   "id": "1ddc51f0-e00c-4fc5-ade2-eeddbdb35091",
   "metadata": {},
   "outputs": [],
   "source": []
  },
  {
   "cell_type": "markdown",
   "id": "c0642806-cd14-46a5-96ca-d3a064b837a6",
   "metadata": {},
   "source": [
    "\n",
    "\n",
    "### size of dots"
   ]
  },
  {
   "cell_type": "code",
   "execution_count": 43,
   "id": "dab2e25b-e692-4c8e-bc41-d23d6ae7dd89",
   "metadata": {},
   "outputs": [],
   "source": [
    "sizes= np.array([10,20,30,40,50,60,70,80,90,100])"
   ]
  },
  {
   "cell_type": "code",
   "execution_count": 44,
   "id": "36eef71d-1039-4499-a9ac-4fed5160b4d6",
   "metadata": {},
   "outputs": [
    {
     "data": {
      "text/plain": [
       "<matplotlib.collections.PathCollection at 0x2366ad32f40>"
      ]
     },
     "execution_count": 44,
     "metadata": {},
     "output_type": "execute_result"
    },
    {
     "data": {
      "image/png": "[encoded data removed]",
      "text/plain": [
       "<Figure size 432x288 with 1 Axes>"
      ]
     },
     "metadata": {},
     "output_type": "display_data"
    }
   ],
   "source": [
    "plt.scatter(x,y, s=sizes)"
   ]
  },
  {
   "cell_type": "code",
   "execution_count": null,
   "id": "01486701-d5a6-4f9b-8ad3-95c89b2faac7",
   "metadata": {},
   "outputs": [],
   "source": []
  },
  {
   "cell_type": "markdown",
   "id": "6803182b-6ddf-4f23-ab6a-987af5af120a",
   "metadata": {},
   "source": [
    "### alpha argument is used for the transparency of the variables"
   ]
  },
  {
   "cell_type": "code",
   "execution_count": 46,
   "id": "ae2384eb-fdb4-4913-a205-d290c25a3624",
   "metadata": {},
   "outputs": [
    {
     "data": {
      "text/plain": [
       "<matplotlib.collections.PathCollection at 0x2366ae63b80>"
      ]
     },
     "execution_count": 46,
     "metadata": {},
     "output_type": "execute_result"
    },
    {
     "data": {
      "image/png": "[encoded data removed]",
      "text/plain": [
       "<Figure size 432x288 with 1 Axes>"
      ]
     },
     "metadata": {},
     "output_type": "display_data"
    }
   ],
   "source": [
    "plt.scatter(x,y, s=sizes, alpha=0.5)"
   ]
  },
  {
   "cell_type": "code",
   "execution_count": null,
   "id": "540a9a01-f90a-46c7-8ddc-3b38de73f024",
   "metadata": {},
   "outputs": [],
   "source": []
  },
  {
   "cell_type": "markdown",
   "id": "3bf2ca8b-e845-4e7f-8430-3cc6fb221c82",
   "metadata": {},
   "source": [
    "### Scatter Masked"
   ]
  },
  {
   "cell_type": "code",
   "execution_count": 79,
   "id": "db228d48-137e-45ce-a41d-47b07d8a2f67",
   "metadata": {},
   "outputs": [],
   "source": [
    "# seed() function is used to fix the random number\n",
    "#np.random.seed(2)\n",
    "#np.random.randint(100,size=5)"
   ]
  },
  {
   "cell_type": "code",
   "execution_count": null,
   "id": "239026ee-1540-4533-b8a9-42c936f9eeff",
   "metadata": {},
   "outputs": [],
   "source": [
    "np.random.seed(1)\n",
    "\n"
   ]
  },
  {
   "cell_type": "code",
   "execution_count": null,
   "id": "b5401f3e-2c02-43ed-89c3-d1fce9421571",
   "metadata": {},
   "outputs": [],
   "source": []
  }
 ],
 "metadata": {
  "kernelspec": {
   "display_name": "Python 3 (ipykernel)",
   "language": "python",
   "name": "python3"
  },
  "language_info": {
   "codemirror_mode": {
    "name": "ipython",
    "version": 3
   },
   "file_extension": ".py",
   "mimetype": "text/x-python",
   "name": "python",
   "nbconvert_exporter": "python",
   "pygments_lexer": "ipython3",
   "version": "3.9.7"
  }
 },
 "nbformat": 4,
 "nbformat_minor": 5
}
