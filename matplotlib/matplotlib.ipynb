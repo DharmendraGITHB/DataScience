{
 "cells": [
  {
   "cell_type": "markdown",
   "id": "b0a3cf18",
   "metadata": {},
   "source": [
    "#### matplotlib is a data visualization and graphical plotting library for python.\n",
    "\n",
    "# Matplotlib 3.5.1"
   ]
  },
  {
   "cell_type": "code",
   "execution_count": 2,
   "id": "91973a7e",
   "metadata": {},
   "outputs": [],
   "source": [
    "import matplotlib.pyplot as plt\n",
    "import numpy as np"
   ]
  },
  {
   "cell_type": "markdown",
   "id": "2aeb5a1a",
   "metadata": {},
   "source": [
    "linspace is used to create an evenly spaced sequence in a specified interval.\n",
    "\n",
    "syntax: numpy.linspace(*start, stop,num, endpoint=True, retstep=False, dtype=None,axis=0*)\n",
    "\n",
    "start, stop and num are the positional arguments and endpoint, retstep, dtype\n",
    "and axis are keyword arguments ."
   ]
  },
  {
   "cell_type": "code",
   "execution_count": 16,
   "id": "8f1aaef9",
   "metadata": {},
   "outputs": [
    {
     "data": {
      "text/plain": [
       "array([1.  , 1.18, 1.36, 1.54, 1.72, 1.9 , 2.08, 2.26, 2.44, 2.62, 2.8 ,\n",
       "       2.98, 3.16, 3.34, 3.52, 3.7 , 3.88, 4.06, 4.24, 4.42, 4.6 , 4.78,\n",
       "       4.96, 5.14, 5.32, 5.5 , 5.68, 5.86, 6.04, 6.22, 6.4 , 6.58, 6.76,\n",
       "       6.94, 7.12, 7.3 , 7.48, 7.66, 7.84, 8.02, 8.2 , 8.38, 8.56, 8.74,\n",
       "       8.92, 9.1 , 9.28, 9.46, 9.64, 9.82])"
      ]
     },
     "execution_count": 16,
     "metadata": {},
     "output_type": "execute_result"
    }
   ],
   "source": [
    "a=np.linspace(1,10, endpoint=False),\n",
    "a"
   ]
  },
  {
   "cell_type": "code",
   "execution_count": 11,
   "id": "219b1e1a",
   "metadata": {},
   "outputs": [],
   "source": [
    "x=np.linspace(0,2*np.pi, 100)\n",
    "y=np.sin(x)"
   ]
  },
  {
   "cell_type": "code",
   "execution_count": null,
   "id": "2b4f0a06",
   "metadata": {},
   "outputs": [],
   "source": []
  }
 ],
 "metadata": {
  "kernelspec": {
   "display_name": "Python 3 (ipykernel)",
   "language": "python",
   "name": "python3"
  },
  "language_info": {
   "codemirror_mode": {
    "name": "ipython",
    "version": 3
   },
   "file_extension": ".py",
   "mimetype": "text/x-python",
   "name": "python",
   "nbconvert_exporter": "python",
   "pygments_lexer": "ipython3",
   "version": "3.9.7"
  }
 },
 "nbformat": 4,
 "nbformat_minor": 5
}
