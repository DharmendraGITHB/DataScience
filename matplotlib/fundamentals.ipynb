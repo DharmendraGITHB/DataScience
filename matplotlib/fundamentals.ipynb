{
 "cells": [
  {
   "cell_type": "markdown",
   "id": "d7b4f106",
   "metadata": {},
   "source": [
    "1. #### keyword and positional argurments in python\n",
    "    \n",
    "    python functions can contain two types of arguments:\n",
    "    1.Keyword Argument\n",
    "    2.Positional Argument\n",
    "    \n"
   ]
  },
  {
   "cell_type": "markdown",
   "id": "e1e3e340",
   "metadata": {},
   "source": [
    "2. #### Parameters and Arguments in python\n",
    "\n",
    "   **Parameters**:\n",
    "     parameter is basically a *variables* which is defined inside function.        definition.\n",
    "    ```python   \n",
    "    def func(a,b):\n",
    "        return a*b    # a,b are the parametersreturn a*b\n",
    "    print(func(1,2))  # 1 ,2 are the arguments here\n",
    "    ```\n",
    "   **Arguments**:\n",
    "     Argurment is a value which is passed to function when it is called.\n",
    "        "
   ]
  },
  {
   "cell_type": "markdown",
   "id": "f82cf0c6",
   "metadata": {},
   "source": [
    "#### 3. Definition and Declaration\n",
    "       \n",
    "       we can define a variable only once but we can declare it multiple time.\n",
    "       \n",
    "       Declaration of variable is explaning data type to compiler.\n",
    "       \n",
    "       Definition of variable is allocating memory to variable or asking to compiler to allocate memory for variable.\n",
    "       "
   ]
  },
  {
   "cell_type": "code",
   "execution_count": null,
   "id": "a87bd5be",
   "metadata": {},
   "outputs": [],
   "source": []
  }
 ],
 "metadata": {
  "kernelspec": {
   "display_name": "Python 3 (ipykernel)",
   "language": "python",
   "name": "python3"
  },
  "language_info": {
   "codemirror_mode": {
    "name": "ipython",
    "version": 3
   },
   "file_extension": ".py",
   "mimetype": "text/x-python",
   "name": "python",
   "nbconvert_exporter": "python",
   "pygments_lexer": "ipython3",
   "version": "3.9.7"
  }
 },
 "nbformat": 4,
 "nbformat_minor": 5
}
