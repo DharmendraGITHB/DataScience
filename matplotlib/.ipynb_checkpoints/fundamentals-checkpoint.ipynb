{
 "cells": [
  {
   "cell_type": "markdown",
   "id": "401306db",
   "metadata": {},
   "source": [
    "1. #### keyword and positional argurments in python\n",
    "    \n",
    "    python functions can contain two types of arguments:\n",
    "    -Keyword Argument\n",
    "    -Positional Argument\n",
    "    \n"
   ]
  },
  {
   "cell_type": "markdown",
   "id": "eb7c3ad1",
   "metadata": {},
   "source": [
    "2. #### Parameters and Arguments in python\n",
    "\n",
    "   **Parameters**:\n",
    "parameter is basically a *variable* which is defined inside function  definition.\n",
    "\n",
    "```python: \n",
    "def func(a,b):\n",
    "    return None\n",
    "```"
   ]
  },
  {
   "cell_type": "markdown",
   "id": "645a52f2",
   "metadata": {},
   "source": []
  }
 ],
 "metadata": {
  "kernelspec": {
   "display_name": "Python 3 (ipykernel)",
   "language": "python",
   "name": "python3"
  },
  "language_info": {
   "codemirror_mode": {
    "name": "ipython",
    "version": 3
   },
   "file_extension": ".py",
   "mimetype": "text/x-python",
   "name": "python",
   "nbconvert_exporter": "python",
   "pygments_lexer": "ipython3",
   "version": "3.9.7"
  }
 },
 "nbformat": 4,
 "nbformat_minor": 5
}
